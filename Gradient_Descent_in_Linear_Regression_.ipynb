{
  "nbformat": 4,
  "nbformat_minor": 0,
  "metadata": {
    "colab": {
      "provenance": []
    },
    "kernelspec": {
      "name": "python3",
      "display_name": "Python 3"
    },
    "language_info": {
      "name": "python"
    }
  },
  "cells": [
    {
      "cell_type": "code",
      "execution_count": 36,
      "metadata": {
        "id": "teNTFKrhN4Uc"
      },
      "outputs": [],
      "source": [
        "import numpy as np\n",
        "import pandas as pd\n",
        "import seaborn as sns\n",
        "import matplotlib.pyplot as plt\n",
        "from sklearn.datasets import make_regression"
      ]
    },
    {
      "cell_type": "code",
      "source": [
        "x,y = make_regression(n_samples=100,n_features=1,n_informative=1,n_targets=1,noise=20)"
      ],
      "metadata": {
        "id": "tavd5JgmOFVS"
      },
      "execution_count": 37,
      "outputs": []
    },
    {
      "cell_type": "code",
      "source": [
        "plt.scatter(x,y)"
      ],
      "metadata": {
        "colab": {
          "base_uri": "https://localhost:8080/",
          "height": 282
        },
        "id": "v3cn1R0CObxU",
        "outputId": "ec25338d-cbcf-4fdd-e99c-6a3c6a69874f"
      },
      "execution_count": 38,
      "outputs": [
        {
          "output_type": "execute_result",
          "data": {
            "text/plain": [
              "<matplotlib.collections.PathCollection at 0x7fb0eb97a3a0>"
            ]
          },
          "metadata": {},
          "execution_count": 38
        },
        {
          "output_type": "display_data",
          "data": {
            "text/plain": [
              "<Figure size 432x288 with 1 Axes>"
            ],
            "image/png": "[encoded data removed]"
          },
          "metadata": {
            "needs_background": "light"
          }
        }
      ]
    },
    {
      "cell_type": "code",
      "source": [
        "from sklearn.linear_model import LinearRegression"
      ],
      "metadata": {
        "id": "BnRfvMSrOd-k"
      },
      "execution_count": 39,
      "outputs": []
    },
    {
      "cell_type": "code",
      "source": [
        "lr=LinearRegression()"
      ],
      "metadata": {
        "id": "WL21Hmg1OnRo"
      },
      "execution_count": 40,
      "outputs": []
    },
    {
      "cell_type": "code",
      "source": [
        "lr.fit(x,y)"
      ],
      "metadata": {
        "colab": {
          "base_uri": "https://localhost:8080/"
        },
        "id": "ip6I4woDOq-Z",
        "outputId": "12967ad6-51c3-4376-9cc6-0a5ab936e1aa"
      },
      "execution_count": 41,
      "outputs": [
        {
          "output_type": "execute_result",
          "data": {
            "text/plain": [
              "LinearRegression()"
            ]
          },
          "metadata": {},
          "execution_count": 41
        }
      ]
    },
    {
      "cell_type": "code",
      "source": [
        "lr.coef_"
      ],
      "metadata": {
        "colab": {
          "base_uri": "https://localhost:8080/"
        },
        "id": "qgNSCha7Os2a",
        "outputId": "fbd6a125-ba7b-408a-a2f1-cc21ce55e690"
      },
      "execution_count": 42,
      "outputs": [
        {
          "output_type": "execute_result",
          "data": {
            "text/plain": [
              "array([78.06598431])"
            ]
          },
          "metadata": {},
          "execution_count": 42
        }
      ]
    },
    {
      "cell_type": "code",
      "source": [
        "lr.intercept_"
      ],
      "metadata": {
        "colab": {
          "base_uri": "https://localhost:8080/"
        },
        "id": "HNhlnV2_OvST",
        "outputId": "4d4e9f01-4da3-43a1-a180-f2c97743fd3c"
      },
      "execution_count": 43,
      "outputs": [
        {
          "output_type": "execute_result",
          "data": {
            "text/plain": [
              "3.1412082281402496"
            ]
          },
          "metadata": {},
          "execution_count": 43
        }
      ]
    },
    {
      "cell_type": "code",
      "source": [
        "m = 16.954"
      ],
      "metadata": {
        "id": "hpjsX1nDOySU"
      },
      "execution_count": 13,
      "outputs": []
    },
    {
      "cell_type": "code",
      "source": [
        "class GDRegressor:\n",
        "\n",
        "  def __init__(self,learning_rate,epochs):\n",
        "    self.m=100\n",
        "    self.b=0\n",
        "    self.lr=learning_rate\n",
        "    self.epochs=epochs\n",
        "  \n",
        "  def fit(self,x,y):\n",
        "    for i in range(self.epochs):\n",
        "      loss_slope_b = -2 * np.sum(y-self.m*x.ravel()-self.b)\n",
        "      loss_slope_m = -2 * np.sum((y-self.m*x.ravel()-self.b)*x.ravel())\n",
        "\n",
        "\n",
        "      self.b = self.b - (self.lr*loss_slope_b)\n",
        "      self.m = self.m - (self.lr*loss_slope_m)\n",
        "\n",
        "    print(self.b)\n",
        "    print(self.m)\n",
        "\n",
        "  def predict(self,x):\n",
        "    return self.m*x + self.b"
      ],
      "metadata": {
        "id": "9eBvMsTPO2du"
      },
      "execution_count": 148,
      "outputs": []
    },
    {
      "cell_type": "code",
      "source": [
        "t=GDRegressor(learning_rate=0.005,epochs=5)"
      ],
      "metadata": {
        "id": "Oy7OWB-4PlRt"
      },
      "execution_count": 164,
      "outputs": []
    },
    {
      "cell_type": "code",
      "source": [
        "\n",
        "\n",
        "t.fit(x,y)"
      ],
      "metadata": {
        "colab": {
          "base_uri": "https://localhost:8080/"
        },
        "id": "TSoA7-duPpU2",
        "outputId": "4e1f7d11-b2b9-49e2-ae26-5b3af0e15bd5"
      },
      "execution_count": 165,
      "outputs": [
        {
          "output_type": "stream",
          "name": "stdout",
          "text": [
            "3.1412048389372256\n",
            "78.06597559742329\n"
          ]
        }
      ]
    },
    {
      "cell_type": "code",
      "source": [
        "\n",
        "\n",
        "t.m"
      ],
      "metadata": {
        "colab": {
          "base_uri": "https://localhost:8080/"
        },
        "id": "NP_IeQ9xPqeP",
        "outputId": "47c35e26-ecdb-4659-bfb1-1144271b2fa7"
      },
      "execution_count": 151,
      "outputs": [
        {
          "output_type": "execute_result",
          "data": {
            "text/plain": [
              "78.06598431484437"
            ]
          },
          "metadata": {},
          "execution_count": 151
        }
      ]
    },
    {
      "cell_type": "code",
      "source": [
        "t.b"
      ],
      "metadata": {
        "colab": {
          "base_uri": "https://localhost:8080/"
        },
        "id": "VGIAWsUlRRhq",
        "outputId": "c9b48b73-7157-469e-a12b-cdbf834176d8"
      },
      "execution_count": 152,
      "outputs": [
        {
          "output_type": "execute_result",
          "data": {
            "text/plain": [
              "3.1412082281402487"
            ]
          },
          "metadata": {},
          "execution_count": 152
        }
      ]
    },
    {
      "cell_type": "code",
      "source": [
        "lr.fit(x,y)"
      ],
      "metadata": {
        "colab": {
          "base_uri": "https://localhost:8080/"
        },
        "id": "NclN7ge0SCCU",
        "outputId": "f948b8c0-e7d8-4d47-9116-fa9a9495fb9a"
      },
      "execution_count": 153,
      "outputs": [
        {
          "output_type": "execute_result",
          "data": {
            "text/plain": [
              "LinearRegression()"
            ]
          },
          "metadata": {},
          "execution_count": 153
        }
      ]
    },
    {
      "cell_type": "code",
      "source": [
        "lr.intercept_"
      ],
      "metadata": {
        "colab": {
          "base_uri": "https://localhost:8080/"
        },
        "id": "fKdTaAlGTf-O",
        "outputId": "eb9fe72b-62a1-4046-b3f6-34ecabba1f73"
      },
      "execution_count": 154,
      "outputs": [
        {
          "output_type": "execute_result",
          "data": {
            "text/plain": [
              "3.1412082281402496"
            ]
          },
          "metadata": {},
          "execution_count": 154
        }
      ]
    },
    {
      "cell_type": "code",
      "source": [
        "lr.coef_"
      ],
      "metadata": {
        "colab": {
          "base_uri": "https://localhost:8080/"
        },
        "id": "4EKLgFzgTiku",
        "outputId": "739734ae-4aa2-4041-9619-84a6c5a1c971"
      },
      "execution_count": 155,
      "outputs": [
        {
          "output_type": "execute_result",
          "data": {
            "text/plain": [
              "array([78.06598431])"
            ]
          },
          "metadata": {},
          "execution_count": 155
        }
      ]
    },
    {
      "cell_type": "code",
      "source": [
        "y_pred=t.predict(x)"
      ],
      "metadata": {
        "id": "H_vNMl7WVqml"
      },
      "execution_count": 157,
      "outputs": []
    },
    {
      "cell_type": "code",
      "source": [
        "plt.plot(x,y_pred)\n",
        "plt.scatter(x,y,color='red')\n"
      ],
      "metadata": {
        "colab": {
          "base_uri": "https://localhost:8080/",
          "height": 282
        },
        "id": "PS-bVxEFWLgY",
        "outputId": "941e5ac3-826a-4258-f9c1-88ade459e308"
      },
      "execution_count": 159,
      "outputs": [
        {
          "output_type": "execute_result",
          "data": {
            "text/plain": [
              "<matplotlib.collections.PathCollection at 0x7fb0eb84b910>"
            ]
          },
          "metadata": {},
          "execution_count": 159
        },
        {
          "output_type": "display_data",
          "data": {
            "text/plain": [
              "<Figure size 432x288 with 1 Axes>"
            ],
            "image/png": "[encoded data removed]"
          },
          "metadata": {
            "needs_background": "light"
          }
        }
      ]
    },
    {
      "cell_type": "code",
      "source": [
        "from sklearn.datasets import load_diabetes\n",
        "from sklearn.metrics import r2_score\n",
        "from sklearn.model_selection import train_test_split"
      ],
      "metadata": {
        "id": "R4dZDrzvW-uz"
      },
      "execution_count": 166,
      "outputs": []
    },
    {
      "cell_type": "code",
      "source": [
        "x,y=load_diabetes(return_X_y=True)"
      ],
      "metadata": {
        "id": "L9qP_MIbdqbJ"
      },
      "execution_count": 167,
      "outputs": []
    },
    {
      "cell_type": "code",
      "source": [
        "print(x.shape)\n",
        "print(y.shape)\n"
      ],
      "metadata": {
        "colab": {
          "base_uri": "https://localhost:8080/"
        },
        "id": "A5Npf-yIdxRa",
        "outputId": "f1860e3f-07b4-4db9-a1ce-baa203a4b484"
      },
      "execution_count": 169,
      "outputs": [
        {
          "output_type": "stream",
          "name": "stdout",
          "text": [
            "(442, 10)\n",
            "(442,)\n"
          ]
        }
      ]
    },
    {
      "cell_type": "code",
      "source": [
        "x_train,x_test,y_train,y_test=train_test_split(x,y,test_size=0.2,random_state=2)"
      ],
      "metadata": {
        "id": "sm1QjUPZdyT0"
      },
      "execution_count": 170,
      "outputs": []
    },
    {
      "cell_type": "code",
      "source": [
        "reg=LinearRegression()"
      ],
      "metadata": {
        "id": "o6Fd9dc8eE1R"
      },
      "execution_count": 172,
      "outputs": []
    },
    {
      "cell_type": "code",
      "source": [
        "reg.fit(x_train,y_train)"
      ],
      "metadata": {
        "colab": {
          "base_uri": "https://localhost:8080/"
        },
        "id": "f9W4bVjQeHZq",
        "outputId": "966b00fe-7e77-4829-c6ba-cda85213df7a"
      },
      "execution_count": 173,
      "outputs": [
        {
          "output_type": "execute_result",
          "data": {
            "text/plain": [
              "LinearRegression()"
            ]
          },
          "metadata": {},
          "execution_count": 173
        }
      ]
    },
    {
      "cell_type": "code",
      "source": [
        "y_pred=reg.predict(x_test)"
      ],
      "metadata": {
        "id": "GPjJuzB2eNqs"
      },
      "execution_count": 175,
      "outputs": []
    },
    {
      "cell_type": "code",
      "source": [
        "r2_score(y_test,y_pred)"
      ],
      "metadata": {
        "colab": {
          "base_uri": "https://localhost:8080/"
        },
        "id": "T96DtAWeeQ3_",
        "outputId": "50ef4579-d85f-4677-c8d9-f90f14bacb2d"
      },
      "execution_count": 176,
      "outputs": [
        {
          "output_type": "execute_result",
          "data": {
            "text/plain": [
              "0.4399387660024644"
            ]
          },
          "metadata": {},
          "execution_count": 176
        }
      ]
    },
    {
      "cell_type": "code",
      "source": [
        "class BGDRegressor:\n",
        "###Batch gradient descent\n",
        "  def __init__(self,learning_rate=0.01,epochs=100):\n",
        "    self.coef_ = None\n",
        "    self.intercept_ = None\n",
        "    self.lr=learning_rate\n",
        "    self.epochs=epochs\n",
        "\n",
        "  def fit(self,x_train,y_train):\n",
        "\n",
        "    self.intercept_ = 0 \n",
        "    self.coef_ = np.ones(x_train.shape[1])\n",
        "\n",
        "    for i in range(self.epochs):\n",
        "      y_hat= np.dot(x_train,self.coef_) + self.intercept_\n",
        "      intercept_der= -2*np.mean(y_train-y_hat)\n",
        "      coef_der= -2*(np.dot((y_train-y_hat).T, x_train)/x_train.shape[0])\n",
        "      self.intercept_ = self.intercept_ - (self.lr*intercept_der)\n",
        "      self.coef_ = self.coef_  -  (self.lr*coef_der)\n",
        "\n",
        "\n",
        "\n",
        "  def predict(self,x_test):\n",
        "    return np.dot(x_test,self.coef_) + self.intercept_"
      ],
      "metadata": {
        "id": "WPQx1WnueciD"
      },
      "execution_count": 205,
      "outputs": []
    },
    {
      "cell_type": "code",
      "source": [
        "gdr=BGDRegressor(0.24,1000)"
      ],
      "metadata": {
        "id": "BwAUJQXEj26b"
      },
      "execution_count": 230,
      "outputs": []
    },
    {
      "cell_type": "code",
      "source": [
        "gdr.fit(x_train,y_train)"
      ],
      "metadata": {
        "id": "OChfuzzIkK-7"
      },
      "execution_count": 231,
      "outputs": []
    },
    {
      "cell_type": "code",
      "source": [
        "gdr.coef_"
      ],
      "metadata": {
        "colab": {
          "base_uri": "https://localhost:8080/"
        },
        "id": "yV-bdgFukPfd",
        "outputId": "7f3bac99-8aa2-4564-819f-5fa6446a6e5c"
      },
      "execution_count": 232,
      "outputs": [
        {
          "output_type": "execute_result",
          "data": {
            "text/plain": [
              "array([  45.9899602 ,  -98.74529536,  399.5226045 ,  276.27600506,\n",
              "         -0.42944348,  -57.03306333, -184.15410037,  124.76815527,\n",
              "        360.80355986,  125.85989452])"
            ]
          },
          "metadata": {},
          "execution_count": 232
        }
      ]
    },
    {
      "cell_type": "code",
      "source": [
        "reg.coef_"
      ],
      "metadata": {
        "colab": {
          "base_uri": "https://localhost:8080/"
        },
        "id": "Be2yO-XDkTEs",
        "outputId": "ee84d121-b65c-454e-8031-af2ccaba2831"
      },
      "execution_count": 233,
      "outputs": [
        {
          "output_type": "execute_result",
          "data": {
            "text/plain": [
              "array([  -9.16088483, -205.46225988,  516.68462383,  340.62734108,\n",
              "       -895.54360867,  561.21453306,  153.88478595,  126.73431596,\n",
              "        861.12139955,   52.41982836])"
            ]
          },
          "metadata": {},
          "execution_count": 233
        }
      ]
    },
    {
      "cell_type": "code",
      "source": [
        "v=gdr.predict(x_test)"
      ],
      "metadata": {
        "id": "e0QeLd7FkYAu"
      },
      "execution_count": 234,
      "outputs": []
    },
    {
      "cell_type": "code",
      "source": [
        "r2_score(y_test,v)"
      ],
      "metadata": {
        "colab": {
          "base_uri": "https://localhost:8080/"
        },
        "id": "wiyX3SXdk9zc",
        "outputId": "291b0520-4021-4569-cf56-2bd27a731277"
      },
      "execution_count": 235,
      "outputs": [
        {
          "output_type": "execute_result",
          "data": {
            "text/plain": [
              "0.44587207158452824"
            ]
          },
          "metadata": {},
          "execution_count": 235
        }
      ]
    },
    {
      "cell_type": "code",
      "source": [
        "##stochstic gradient descent"
      ],
      "metadata": {
        "id": "jQaMgb2AlBP-"
      },
      "execution_count": 238,
      "outputs": []
    },
    {
      "cell_type": "code",
      "source": [
        "class sgdregressor:\n",
        "\n",
        "  def __init__(self,learning_rate=0.01,epochs=20):\n",
        "    self.coef=None\n",
        "    self.intercept=None\n",
        "    self.lr=learning_rate\n",
        "    self.epochs=epochs\n",
        "\n",
        "  def fit(self,x_train,y_train):\n",
        "\n",
        "    self.intercept=0\n",
        "    self.coef=np.ones(x_train.shape[1])\n",
        "\n",
        "\n",
        "    for i in range(self.epochs):\n",
        "\n",
        "      for j in range(x_train.shape[0]):\n",
        "        idx=np.random.randint(0,x_train.shape[0])\n",
        "        y_hat= np.dot(x_train[idx],self.coef) + self.intercept\n",
        "        intercept_der= -2* (y_train[idx]-y_hat)\n",
        "        coef_der= -2* np.dot((y_train[idx]-y_hat),x_train[idx])\n",
        "        self.intercept= self.intercept - (self.lr*intercept_der)\n",
        "        self.coef= self.coef - (self.lr*coef_der)\n",
        "\n",
        "  def predict(self,x_test):\n",
        "    return np.dot(x_test,self.coef) + self.intercept"
      ],
      "metadata": {
        "id": "geX9Ld9ylmLr"
      },
      "execution_count": 239,
      "outputs": []
    },
    {
      "cell_type": "code",
      "source": [
        "s=sgdregressor(learning_rate=0.0901,epochs=5)"
      ],
      "metadata": {
        "id": "85q0wBjXlq4c"
      },
      "execution_count": 308,
      "outputs": []
    },
    {
      "cell_type": "code",
      "source": [
        "s.fit(x_train,y_train)"
      ],
      "metadata": {
        "id": "uqYlGRO6pizT"
      },
      "execution_count": 309,
      "outputs": []
    },
    {
      "cell_type": "code",
      "source": [
        "y_pred=s.predict(x_test)"
      ],
      "metadata": {
        "id": "JByQDPdNpowc"
      },
      "execution_count": 310,
      "outputs": []
    },
    {
      "cell_type": "code",
      "source": [
        "r2_score(y_test,y_pred)"
      ],
      "metadata": {
        "colab": {
          "base_uri": "https://localhost:8080/"
        },
        "id": "ziqIeYCUpthW",
        "outputId": "9963c83a-286e-499f-bf10-523189cb98c2"
      },
      "execution_count": 311,
      "outputs": [
        {
          "output_type": "execute_result",
          "data": {
            "text/plain": [
              "0.4356724010598777"
            ]
          },
          "metadata": {},
          "execution_count": 311
        }
      ]
    },
    {
      "cell_type": "code",
      "source": [
        "##when to use-\n",
        "#1. big data\n",
        "##2.non convex function"
      ],
      "metadata": {
        "id": "kLQ_z-S7pxdY"
      },
      "execution_count": 312,
      "outputs": []
    },
    {
      "cell_type": "code",
      "source": [
        "# t0,t1=5,50\n",
        "# def learning_rate(t):\n",
        "#   return t0/(t+t1)\n",
        "\n",
        "\n",
        "# for i in range(epochs):\n",
        "#   for j in range(x.shape[0]):\n",
        "\n",
        "#     lr=learning_rate(i*x.shape[0] + j )\n"
      ],
      "metadata": {
        "id": "kFq4XTwpq2bh"
      },
      "execution_count": 389,
      "outputs": []
    },
    {
      "cell_type": "code",
      "source": [
        "class sgdregressor1:\n",
        "\n",
        "  def __init__(self,learning_rate=0.01,epochs=20):\n",
        "    self.coef=None\n",
        "    self.intercept=None\n",
        "    self.lr=learning_rate\n",
        "    self.epochs=epochs\n",
        "\n",
        "  def fit(self,x_train,y_train):\n",
        "\n",
        "    self.intercept=0\n",
        "    self.coef=np.ones(x_train.shape[1])\n",
        "    t0,t1=5,50\n",
        "    def learning_rater(t):\n",
        "       return t0/(t+t1)\n",
        "\n",
        "    \n",
        "    for i in range(self.epochs):\n",
        "      \n",
        "\n",
        "      for j in range(x_train.shape[0]):\n",
        "        idx=np.random.randint(0,x_train.shape[0])\n",
        "        y_hat= np.dot(x_train[idx],self.coef) + self.intercept\n",
        "        intercept_der= -2* (y_train[idx]-y_hat)\n",
        "        coef_der= -2* np.dot((y_train[idx]-y_hat),x_train[idx])\n",
        "        self.intercept= self.intercept - (self.lr*intercept_der)\n",
        "        self.coef= self.coef - (self.lr*coef_der)\n",
        "        self.lr=learning_rater(i*x_train.shape[0] + j )\n",
        "\n",
        "    print(self.lr)\n",
        "  def predict(self,x_test):\n",
        "    return np.dot(x_test,self.coef) + self.intercept"
      ],
      "metadata": {
        "id": "-SNshtHjr8gC"
      },
      "execution_count": 382,
      "outputs": []
    },
    {
      "cell_type": "code",
      "source": [
        "s=sgdregressor1(learning_rate=0.01,epochs=1)\n"
      ],
      "metadata": {
        "id": "9c2XP3K3sfhm"
      },
      "execution_count": 383,
      "outputs": []
    },
    {
      "cell_type": "code",
      "source": [
        "s.fit(x_train,y_train)\n"
      ],
      "metadata": {
        "colab": {
          "base_uri": "https://localhost:8080/"
        },
        "id": "bfexG07Nsjdf",
        "outputId": "5ab41007-5637-4d4f-beb2-46c05a0c4ecb"
      },
      "execution_count": 384,
      "outputs": [
        {
          "output_type": "stream",
          "name": "stdout",
          "text": [
            "0.012437810945273632\n"
          ]
        }
      ]
    },
    {
      "cell_type": "code",
      "source": [
        "y_pred=s.predict(x_test)\n"
      ],
      "metadata": {
        "id": "2POjvJoRspaZ"
      },
      "execution_count": 385,
      "outputs": []
    },
    {
      "cell_type": "code",
      "source": [
        "\n",
        "r2_score(y_test,y_pred)\n"
      ],
      "metadata": {
        "colab": {
          "base_uri": "https://localhost:8080/"
        },
        "id": "Ay9HddpassZp",
        "outputId": "e9ff4ecd-41b4-4f51-d454-c251daa2429a"
      },
      "execution_count": 386,
      "outputs": [
        {
          "output_type": "execute_result",
          "data": {
            "text/plain": [
              "0.11858132771791707"
            ]
          },
          "metadata": {},
          "execution_count": 386
        }
      ]
    },
    {
      "cell_type": "code",
      "source": [
        "from sklearn.linear_model import SGDRegressor"
      ],
      "metadata": {
        "id": "DNHjJwNOsup5"
      },
      "execution_count": 388,
      "outputs": []
    },
    {
      "cell_type": "code",
      "source": [
        "e=SGDRegressor(max_iter=1000,learning_rate='constant',eta0=0.01)"
      ],
      "metadata": {
        "id": "JyrJ4-QSvFhQ"
      },
      "execution_count": 393,
      "outputs": []
    },
    {
      "cell_type": "code",
      "source": [
        "e.fit(x_train,y_train)"
      ],
      "metadata": {
        "colab": {
          "base_uri": "https://localhost:8080/"
        },
        "id": "JHi6CZwLvPti",
        "outputId": "937f233b-d9f7-4034-be7d-78b7f884ab29"
      },
      "execution_count": 394,
      "outputs": [
        {
          "output_type": "execute_result",
          "data": {
            "text/plain": [
              "SGDRegressor(learning_rate='constant')"
            ]
          },
          "metadata": {},
          "execution_count": 394
        }
      ]
    },
    {
      "cell_type": "code",
      "source": [
        "y_pred=e.predict(x_test)"
      ],
      "metadata": {
        "id": "80qfAKUovkX5"
      },
      "execution_count": 395,
      "outputs": []
    },
    {
      "cell_type": "code",
      "source": [
        "r2_score(y_test,y_pred)"
      ],
      "metadata": {
        "colab": {
          "base_uri": "https://localhost:8080/"
        },
        "id": "0jrUPUXpv0rg",
        "outputId": "1c03cf11-f520-4cb1-96a4-1ea25eb287ab"
      },
      "execution_count": 396,
      "outputs": [
        {
          "output_type": "execute_result",
          "data": {
            "text/plain": [
              "0.44306184432637385"
            ]
          },
          "metadata": {},
          "execution_count": 396
        }
      ]
    },
    {
      "cell_type": "code",
      "source": [],
      "metadata": {
        "id": "GpmxRgphv4fw"
      },
      "execution_count": null,
      "outputs": []
    }
  ]
}